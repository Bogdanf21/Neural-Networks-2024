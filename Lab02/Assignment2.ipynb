{
 "cells": [
  {
   "cell_type": "code",
   "execution_count": 1,
   "id": "afa3951f-83fd-43a4-b972-59d41861dabf",
   "metadata": {},
   "outputs": [],
   "source": [
    "import numpy as np\n",
    "from torchvision.datasets import MNIST"
   ]
  },
  {
   "cell_type": "code",
   "execution_count": 2,
   "id": "cc9453c7-75a4-4452-b78e-5115f7f93061",
   "metadata": {
    "scrolled": true
   },
   "outputs": [
    {
     "name": "stdout",
     "output_type": "stream",
     "text": [
      "train_X shape: (60000, 784)\n",
      "train_Y (one-hot) shape: (60000, 10)\n",
      "test_X shape: (10000, 784)\n",
      "test_Y (one-hot) shape: (10000, 10)\n"
     ]
    }
   ],
   "source": [
    "def one_hot_encode(labels, num_classes):\n",
    "    return np.eye(num_classes)[labels]\n",
    "\n",
    "def download_mnist(is_train: bool):\n",
    "    dataset = MNIST(root='./data',\n",
    "                    transform=lambda x: np.array(x).flatten(),\n",
    "                    download=True,\n",
    "                    train=is_train)\n",
    "    \n",
    "    mnist_data = []\n",
    "    mnist_labels = []\n",
    "    for image, label in dataset:\n",
    "        mnist_data.append(image)\n",
    "        mnist_labels.append(label)\n",
    "    \n",
    "    mnist_data = np.array(mnist_data, dtype='float64')\n",
    "    mnist_labels = np.array(mnist_labels)\n",
    "    \n",
    "    mnist_labels = one_hot_encode(mnist_labels, num_classes=10)\n",
    "    \n",
    "    return mnist_data, mnist_labels\n",
    "    \n",
    "train_X, train_Y = download_mnist(True)\n",
    "test_X, test_Y = download_mnist(False)\n",
    "\n",
    "print(f\"train_X shape: {train_X.shape}\")\n",
    "print(f\"train_Y (one-hot) shape: {train_Y.shape}\")\n",
    "print(f\"test_X shape: {test_X.shape}\")\n",
    "print(f\"test_Y (one-hot) shape: {test_Y.shape}\")"
   ]
  },
  {
   "cell_type": "markdown",
   "id": "b7eeba5c-d2bb-4e7e-bafe-a5357a0f3248",
   "metadata": {},
   "source": [
    "## Normalize the data"
   ]
  },
  {
   "cell_type": "code",
   "execution_count": 3,
   "id": "3bd4b2c5-82fd-444e-9610-cfe000a8cc6d",
   "metadata": {},
   "outputs": [],
   "source": [
    "train_X /= 255.0\n",
    "test_X /= 255.0"
   ]
  },
  {
   "cell_type": "code",
   "execution_count": 4,
   "id": "3469355e-5464-4ed5-b53a-4355f94015a3",
   "metadata": {},
   "outputs": [
    {
     "name": "stdout",
     "output_type": "stream",
     "text": [
      "Min value: 0.0\n",
      "Max value: 1.0\n"
     ]
    }
   ],
   "source": [
    "print(f\"Min value: {min([min(t) for t in train_X])}\")\n",
    "print(f\"Max value: {max([max(t) for t in train_X])}\")"
   ]
  },
  {
   "cell_type": "markdown",
   "id": "cbf91485-b4df-475a-8727-5b238352536b",
   "metadata": {},
   "source": [
    "## Hyperparameters"
   ]
  },
  {
   "cell_type": "code",
   "execution_count": 11,
   "id": "ad1f9378-abd9-4071-ab1b-ec47adbf971d",
   "metadata": {},
   "outputs": [],
   "source": [
    "input_size = train_X.shape[1]\n",
    "output_size = train_Y.shape[1]\n",
    "batch_size = 100\n",
    "learning_rate = 0.05\n",
    "epochs = 50"
   ]
  },
  {
   "cell_type": "markdown",
   "id": "8c0a82ab-9283-4705-8bac-54e53da6aabb",
   "metadata": {},
   "source": [
    "## Batches"
   ]
  },
  {
   "cell_type": "code",
   "execution_count": 12,
   "id": "2d2e832a-24ab-4331-a773-cd7f42633a71",
   "metadata": {},
   "outputs": [],
   "source": [
    "def generate_batches(X, Y, batch_size):\n",
    "    num_samples = X.shape[0]\n",
    "    for i in range(0, num_samples, batch_size):\n",
    "        X_batch = X[i:i+batch_size]\n",
    "        Y_batch = Y[i:i+batch_size]\n",
    "        yield X_batch, Y_batch"
   ]
  },
  {
   "cell_type": "markdown",
   "id": "55348321-9388-40bc-8e26-7d37e9d0dac7",
   "metadata": {},
   "source": [
    "## Softmax"
   ]
  },
  {
   "cell_type": "code",
   "execution_count": 13,
   "id": "b733ac33-963b-4e49-aeec-f8abc7afb2aa",
   "metadata": {},
   "outputs": [],
   "source": [
    "def softmax(x):\n",
    "    return np.exp(x)/np.sum(np.exp(x),axis=1, keepdims=True)"
   ]
  },
  {
   "cell_type": "markdown",
   "id": "26534647-92fc-4228-8116-63b84ab434f1",
   "metadata": {},
   "source": [
    "## Main Loop"
   ]
  },
  {
   "cell_type": "code",
   "execution_count": 14,
   "id": "7a1ece1c-e840-4cde-8190-fb05671573a2",
   "metadata": {},
   "outputs": [
    {
     "name": "stdout",
     "output_type": "stream",
     "text": [
      "Epoch 1/50 Loss: 0.4923\n",
      "Epoch 2/50 Loss: 0.4036\n",
      "Epoch 3/50 Loss: 0.3696\n",
      "Epoch 4/50 Loss: 0.3514\n",
      "Epoch 5/50 Loss: 0.3397\n",
      "Epoch 6/50 Loss: 0.3315\n",
      "Epoch 7/50 Loss: 0.3252\n",
      "Epoch 8/50 Loss: 0.3202\n",
      "Epoch 9/50 Loss: 0.3161\n",
      "Epoch 10/50 Loss: 0.3125\n",
      "Epoch 11/50 Loss: 0.3094\n",
      "Epoch 12/50 Loss: 0.3067\n",
      "Epoch 13/50 Loss: 0.3042\n",
      "Epoch 14/50 Loss: 0.3020\n",
      "Epoch 15/50 Loss: 0.2999\n",
      "Epoch 16/50 Loss: 0.2980\n",
      "Epoch 17/50 Loss: 0.2962\n",
      "Epoch 18/50 Loss: 0.2946\n",
      "Epoch 19/50 Loss: 0.2931\n",
      "Epoch 20/50 Loss: 0.2916\n",
      "Epoch 21/50 Loss: 0.2902\n",
      "Epoch 22/50 Loss: 0.2889\n",
      "Epoch 23/50 Loss: 0.2877\n",
      "Epoch 24/50 Loss: 0.2865\n",
      "Epoch 25/50 Loss: 0.2854\n",
      "Epoch 26/50 Loss: 0.2843\n",
      "Epoch 27/50 Loss: 0.2833\n",
      "Epoch 28/50 Loss: 0.2823\n",
      "Epoch 29/50 Loss: 0.2814\n",
      "Epoch 30/50 Loss: 0.2804\n",
      "Epoch 31/50 Loss: 0.2796\n",
      "Epoch 32/50 Loss: 0.2787\n",
      "Epoch 33/50 Loss: 0.2779\n",
      "Epoch 34/50 Loss: 0.2771\n",
      "Epoch 35/50 Loss: 0.2763\n",
      "Epoch 36/50 Loss: 0.2755\n",
      "Epoch 37/50 Loss: 0.2748\n",
      "Epoch 38/50 Loss: 0.2741\n",
      "Epoch 39/50 Loss: 0.2734\n",
      "Epoch 40/50 Loss: 0.2727\n",
      "Epoch 41/50 Loss: 0.2720\n",
      "Epoch 42/50 Loss: 0.2714\n",
      "Epoch 43/50 Loss: 0.2708\n",
      "Epoch 44/50 Loss: 0.2701\n",
      "Epoch 45/50 Loss: 0.2695\n",
      "Epoch 46/50 Loss: 0.2689\n",
      "Epoch 47/50 Loss: 0.2684\n",
      "Epoch 48/50 Loss: 0.2678\n",
      "Epoch 49/50 Loss: 0.2672\n",
      "Epoch 50/50 Loss: 0.2667\n"
     ]
    }
   ],
   "source": [
    "W = np.random.randn(input_size, output_size) * 0.1 # Avoid exploding gradients\n",
    "b = np.zeros(output_size)  # Bias initialized to zero\n",
    "\n",
    "for epoch in range(epochs):\n",
    " # Loop through batches\n",
    "    for batch_X, batch_Y in generate_batches(train_X, train_Y, batch_size):\n",
    "        #print(f\"Batch_X shape:{batch_X.shape}\")\n",
    "        #print(f\"Weights shape: {W.shape}\")\n",
    "        #print(f\"Bias shape: {b.shape}\")\n",
    "        \n",
    "        Z = np.dot(batch_X, W) + b \n",
    "        #print(f\"Z shape: {Z.shape}\")\n",
    "        Y_pred = softmax(Z)\n",
    "        #print(f\"Y_pred shape: {Y_pred.shape}\")\n",
    "        Y_hat = np.argmax(Y_pred, axis=1)\n",
    "        #print(f\"Prediction shape: {Y_hat.shape}\")\n",
    "\n",
    "        loss = -np.sum(batch_Y * np.log(Y_pred + 1e-10)) / batch_size  # Cross-entropy loss\n",
    "        \n",
    "        # Backprop\n",
    "        error = batch_Y - Y_pred\n",
    "\n",
    "        dW = np.dot(batch_X.T, error) / batch_size\n",
    "        db = np.sum(error, axis=0) / batch_size\n",
    "\n",
    "        W += learning_rate * dW\n",
    "        b += learning_rate * db\n",
    "        \n",
    "    print(f\"Epoch {epoch+1}/{epochs} Loss: {loss:.4f}\")\n"
   ]
  },
  {
   "cell_type": "code",
   "execution_count": 16,
   "id": "b4ee2d33-d8eb-4337-9847-a3ea82bb6197",
   "metadata": {},
   "outputs": [],
   "source": [
    "def evaluate(test_X, test_Y):\n",
    "    z_test = np.dot(test_X, W) + b\n",
    "    y_test_pred = softmax(z_test)\n",
    "    y_test_hat = np.argmax(y_test_pred, axis=1)\n",
    "\n",
    "    # Calculate accuracy\n",
    "    correct_predictions = np.sum(y_test_hat == np.argmax(test_Y, axis=1))\n",
    "    accuracy = correct_predictions / test_Y.shape[0]\n",
    "    print(f\"Test Accuracy: {accuracy:.4f}\")"
   ]
  },
  {
   "cell_type": "code",
   "execution_count": 17,
   "id": "65149683-20c7-428e-964d-571fd4b13b59",
   "metadata": {},
   "outputs": [
    {
     "name": "stdout",
     "output_type": "stream",
     "text": [
      "Test Accuracy: 0.9243\n"
     ]
    }
   ],
   "source": [
    "evaluate(test_X, test_Y)"
   ]
  },
  {
   "cell_type": "code",
   "execution_count": null,
   "id": "ad744f51-2a9e-43b8-83ac-32d151cd3f42",
   "metadata": {},
   "outputs": [],
   "source": []
  },
  {
   "cell_type": "code",
   "execution_count": null,
   "id": "0f8e6b20-ce7f-4cf9-b788-90ad90a9faf9",
   "metadata": {},
   "outputs": [],
   "source": []
  }
 ],
 "metadata": {
  "kernelspec": {
   "display_name": "Python 3 (ipykernel)",
   "language": "python",
   "name": "python3"
  },
  "language_info": {
   "codemirror_mode": {
    "name": "ipython",
    "version": 3
   },
   "file_extension": ".py",
   "mimetype": "text/x-python",
   "name": "python",
   "nbconvert_exporter": "python",
   "pygments_lexer": "ipython3",
   "version": "3.10.12"
  }
 },
 "nbformat": 4,
 "nbformat_minor": 5
}
