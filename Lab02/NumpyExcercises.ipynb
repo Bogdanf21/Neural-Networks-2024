{
 "cells": [
  {
   "cell_type": "markdown",
   "metadata": {
    "colab_type": "text",
    "id": "view-in-github"
   },
   "source": [
    "<a href=\"https://colab.research.google.com/github/Tensor-Reloaded/Neural-Networks-Template-2024/blob/main/Lab02/NumpyExcercises.ipynb\" target=\"_parent\"><img src=\"https://colab.research.google.com/assets/colab-badge.svg\" alt=\"Open In Colab\"/></a>"
   ]
  },
  {
   "cell_type": "markdown",
   "metadata": {
    "id": "1osmmLv1t8Vc"
   },
   "source": [
    "# Excercises with numpy"
   ]
  },
  {
   "cell_type": "code",
   "execution_count": 4,
   "metadata": {
    "colab": {
     "base_uri": "https://localhost:8080/"
    },
    "id": "R-psdy852TWD",
    "outputId": "81c31bfd-d099-4422-810a-699612394d98"
   },
   "outputs": [
    {
     "name": "stdout",
     "output_type": "stream",
     "text": [
      "Requirement already satisfied: timed-decorator in /usr/local/lib/python3.10/dist-packages (1.5.2)\n",
      "\u001b[33mWARNING: Running pip as the 'root' user can result in broken permissions and conflicting behaviour with the system package manager. It is recommended to use a virtual environment instead: https://pip.pypa.io/warnings/venv\u001b[0m\u001b[33m\n",
      "\u001b[0mNote: you may need to restart the kernel to use updated packages.\n",
      "Collecting scikit-learn\n",
      "  Downloading scikit_learn-1.5.2-cp310-cp310-manylinux_2_17_x86_64.manylinux2014_x86_64.whl (13.3 MB)\n",
      "\u001b[2K     \u001b[90m━━━━━━━━━━━━━━━━━━━━━━━━━━━━━━━━━━━━━━━━\u001b[0m \u001b[32m13.3/13.3 MB\u001b[0m \u001b[31m62.7 MB/s\u001b[0m eta \u001b[36m0:00:00\u001b[0m00:01\u001b[0m00:01\u001b[0m\n",
      "\u001b[?25hCollecting threadpoolctl>=3.1.0\n",
      "  Downloading threadpoolctl-3.5.0-py3-none-any.whl (18 kB)\n",
      "Collecting joblib>=1.2.0\n",
      "  Downloading joblib-1.4.2-py3-none-any.whl (301 kB)\n",
      "\u001b[2K     \u001b[90m━━━━━━━━━━━━━━━━━━━━━━━━━━━━━━━━━━━━━━\u001b[0m \u001b[32m301.8/301.8 KB\u001b[0m \u001b[31m44.6 MB/s\u001b[0m eta \u001b[36m0:00:00\u001b[0m\n",
      "\u001b[?25hRequirement already satisfied: numpy>=1.19.5 in /usr/local/lib/python3.10/dist-packages (from scikit-learn) (2.1.1)\n",
      "Collecting scipy>=1.6.0\n",
      "  Downloading scipy-1.14.1-cp310-cp310-manylinux_2_17_x86_64.manylinux2014_x86_64.whl (41.2 MB)\n",
      "\u001b[2K     \u001b[90m━━━━━━━━━━━━━━━━━━━━━━━━━━━━━━━━━━━━━━━━\u001b[0m \u001b[32m41.2/41.2 MB\u001b[0m \u001b[31m47.7 MB/s\u001b[0m eta \u001b[36m0:00:00\u001b[0m00:01\u001b[0m00:01\u001b[0m\n",
      "\u001b[?25hInstalling collected packages: threadpoolctl, scipy, joblib, scikit-learn\n",
      "Successfully installed joblib-1.4.2 scikit-learn-1.5.2 scipy-1.14.1 threadpoolctl-3.5.0\n",
      "\u001b[33mWARNING: Running pip as the 'root' user can result in broken permissions and conflicting behaviour with the system package manager. It is recommended to use a virtual environment instead: https://pip.pypa.io/warnings/venv\u001b[0m\u001b[33m\n",
      "\u001b[0mNote: you may need to restart the kernel to use updated packages.\n"
     ]
    }
   ],
   "source": [
    "%pip install timed-decorator\n",
    "%pip install scikit-learn"
   ]
  },
  {
   "cell_type": "code",
   "execution_count": 2,
   "metadata": {
    "id": "Pv2iHv15vu67"
   },
   "outputs": [
    {
     "ename": "ModuleNotFoundError",
     "evalue": "No module named 'sklearn'",
     "output_type": "error",
     "traceback": [
      "\u001b[0;31m---------------------------------------------------------------------------\u001b[0m",
      "\u001b[0;31mModuleNotFoundError\u001b[0m                       Traceback (most recent call last)",
      "Cell \u001b[0;32mIn[2], line 2\u001b[0m\n\u001b[1;32m      1\u001b[0m \u001b[38;5;28;01mimport\u001b[39;00m \u001b[38;5;21;01mnumpy\u001b[39;00m \u001b[38;5;28;01mas\u001b[39;00m \u001b[38;5;21;01mnp\u001b[39;00m\n\u001b[0;32m----> 2\u001b[0m \u001b[38;5;28;01mfrom\u001b[39;00m \u001b[38;5;21;01msklearn\u001b[39;00m\u001b[38;5;21;01m.\u001b[39;00m\u001b[38;5;21;01mmetrics\u001b[39;00m \u001b[38;5;28;01mimport\u001b[39;00m confusion_matrix, accuracy_score, f1_score\n\u001b[1;32m      3\u001b[0m \u001b[38;5;28;01mfrom\u001b[39;00m \u001b[38;5;21;01mtimed_decorator\u001b[39;00m\u001b[38;5;21;01m.\u001b[39;00m\u001b[38;5;21;01msimple_timed\u001b[39;00m \u001b[38;5;28;01mimport\u001b[39;00m timed\n\u001b[1;32m      4\u001b[0m \u001b[38;5;28;01mfrom\u001b[39;00m \u001b[38;5;21;01mtyping\u001b[39;00m \u001b[38;5;28;01mimport\u001b[39;00m Tuple\n",
      "\u001b[0;31mModuleNotFoundError\u001b[0m: No module named 'sklearn'"
     ]
    }
   ],
   "source": [
    "import numpy as np\n",
    "from sklearn.metrics import confusion_matrix, accuracy_score, f1_score\n",
    "from timed_decorator.simple_timed import timed\n",
    "from typing import Tuple"
   ]
  },
  {
   "cell_type": "code",
   "execution_count": null,
   "metadata": {
    "id": "7OOZ-UGxt77b"
   },
   "outputs": [],
   "source": [
    "predicted = np.array([\n",
    "    1,1,1,0,1,0,1,1,0,0\n",
    "])\n",
    "actual = np.array([\n",
    "    1,1,1,1,0,0,1,0,0,0\n",
    "])\n",
    "\n",
    "big_size = 500000\n",
    "big_actual = np.repeat(actual, big_size)\n",
    "big_predicted = np.repeat(predicted, big_size)\n"
   ]
  },
  {
   "cell_type": "markdown",
   "metadata": {
    "id": "WR9T8rfg94YQ"
   },
   "source": [
    "If you are not familiar with the confusion matrix for binary classification, check https://www.geeksforgeeks.org/confusion-matrix-machine-learning/#what-is-a-confusion-matrix"
   ]
  },
  {
   "cell_type": "markdown",
   "metadata": {
    "id": "DlvLoCK835ta"
   },
   "source": [
    "### Exercise 1\n",
    "\n",
    "Implement a method to retrieve the confusion matrix values using numpy operations. Aim to make your method faster than the sklearn implementation."
   ]
  },
  {
   "cell_type": "code",
   "execution_count": 4,
   "metadata": {
    "id": "KXCV8jvPydpC"
   },
   "outputs": [
    {
     "ename": "NameError",
     "evalue": "name 'timed' is not defined",
     "output_type": "error",
     "traceback": [
      "\u001b[0;31m---------------------------------------------------------------------------\u001b[0m",
      "\u001b[0;31mNameError\u001b[0m                                 Traceback (most recent call last)",
      "Cell \u001b[0;32mIn[4], line 1\u001b[0m\n\u001b[0;32m----> 1\u001b[0m \u001b[38;5;129m@timed\u001b[39m(use_seconds\u001b[38;5;241m=\u001b[39m\u001b[38;5;28;01mTrue\u001b[39;00m, show_args\u001b[38;5;241m=\u001b[39m\u001b[38;5;28;01mTrue\u001b[39;00m)\n\u001b[1;32m      2\u001b[0m \u001b[38;5;28;01mdef\u001b[39;00m \u001b[38;5;21mtp_fp_fn_tn_sklearn\u001b[39m(gt: np\u001b[38;5;241m.\u001b[39mndarray, pred: np\u001b[38;5;241m.\u001b[39mndarray) \u001b[38;5;241m-\u001b[39m\u001b[38;5;241m>\u001b[39m Tuple[\u001b[38;5;28mint\u001b[39m, \u001b[38;5;241m.\u001b[39m\u001b[38;5;241m.\u001b[39m\u001b[38;5;241m.\u001b[39m]:\n\u001b[1;32m      3\u001b[0m     tn, fp, fn, tp \u001b[38;5;241m=\u001b[39m confusion_matrix(gt, pred)\u001b[38;5;241m.\u001b[39mravel()\n\u001b[1;32m      4\u001b[0m     \u001b[38;5;28;01mreturn\u001b[39;00m tp, fp, fn, tn\n",
      "\u001b[0;31mNameError\u001b[0m: name 'timed' is not defined"
     ]
    }
   ],
   "source": [
    "@timed(use_seconds=True, show_args=True)\n",
    "def tp_fp_fn_tn_sklearn(gt: np.ndarray, pred: np.ndarray) -> Tuple[int, ...]:\n",
    "    tn, fp, fn, tp = confusion_matrix(gt, pred).ravel()\n",
    "    return tp, fp, fn, tn\n",
    "\n",
    "\n",
    "@timed(use_seconds=True, show_args=True)\n",
    "def tp_fp_fn_tn_numpy(gt: np.ndarray, pred: np.ndarray) -> Tuple[int, ...]:\n",
    "    tp = np.sum((gt == 1) & (pred == 1))\n",
    "    \n",
    "    fp = np.sum((gt == 0) & (pred == 1))\n",
    "    \n",
    "    fn = np.sum((gt == 1) & (pred == 0))\n",
    "    \n",
    "    tn = np.sum((gt == 0) & (pred == 0))\n",
    "\n",
    "\n",
    "assert tp_fp_fn_tn_sklearn(actual, predicted) == tp_fp_fn_tn_numpy(actual, predicted)"
   ]
  },
  {
   "cell_type": "code",
   "execution_count": 3,
   "metadata": {
    "id": "qlxFQ_1Pywjb"
   },
   "outputs": [
    {
     "ename": "NameError",
     "evalue": "name 'tp_fp_fn_tn_sklearn' is not defined",
     "output_type": "error",
     "traceback": [
      "\u001b[0;31m---------------------------------------------------------------------------\u001b[0m",
      "\u001b[0;31mNameError\u001b[0m                                 Traceback (most recent call last)",
      "Cell \u001b[0;32mIn[3], line 1\u001b[0m\n\u001b[0;32m----> 1\u001b[0m rez_1 \u001b[38;5;241m=\u001b[39m \u001b[43mtp_fp_fn_tn_sklearn\u001b[49m(big_actual, big_predicted)\n\u001b[1;32m      2\u001b[0m rez_2 \u001b[38;5;241m=\u001b[39m tp_fp_fn_tn_numpy(big_actual, big_predicted)\n\u001b[1;32m      4\u001b[0m \u001b[38;5;28;01massert\u001b[39;00m rez_1 \u001b[38;5;241m==\u001b[39m rez_2\n",
      "\u001b[0;31mNameError\u001b[0m: name 'tp_fp_fn_tn_sklearn' is not defined"
     ]
    }
   ],
   "source": [
    "rez_1 = tp_fp_fn_tn_sklearn(big_actual, big_predicted)\n",
    "rez_2 = tp_fp_fn_tn_numpy(big_actual, big_predicted)\n",
    "\n",
    "assert rez_1 == rez_2"
   ]
  },
  {
   "cell_type": "markdown",
   "metadata": {
    "id": "LuJUVV1c_Iu8"
   },
   "source": [
    "```\n",
    "tp_fp_fn_tn_sklearn(ndarray(5000000,), ndarray(5000000,)) -> total time: 1.362611559s\n",
    "tp_fp_fn_tn_numpy(ndarray(5000000,), ndarray(5000000,)) -> total time: 0.061580794s\n",
    "```"
   ]
  },
  {
   "cell_type": "markdown",
   "metadata": {
    "id": "9VtOouGY-dGU"
   },
   "source": [
    "### Exercise 2\n",
    "\n",
    "Implement a method to retrieve the calculate the accuracy using numpy operations."
   ]
  },
  {
   "cell_type": "markdown",
   "metadata": {
    "id": "FrOvVlQi6Vqx"
   },
   "source": [
    "Accuracy = $\\frac{TP + TN}{TP + FP + FN + TN}$"
   ]
  },
  {
   "cell_type": "code",
   "execution_count": null,
   "metadata": {
    "id": "FvGCS4wo149M"
   },
   "outputs": [],
   "source": [
    "@timed(use_seconds=True, show_args=True)\n",
    "def accuracy_sklearn(gt: np.ndarray, pred: np.ndarray) -> float:\n",
    "    return accuracy_score(gt, pred)\n",
    "\n",
    "\n",
    "@timed(use_seconds=True, show_args=True)\n",
    "def accuracy_numpy(gt: np.ndarray, pred: np.ndarray) -> float:\n",
    "    raise NotImplementedError()\n",
    "\n",
    "\n",
    "assert accuracy_sklearn(actual, predicted) == accuracy_numpy(actual, predicted)"
   ]
  },
  {
   "cell_type": "code",
   "execution_count": null,
   "metadata": {
    "id": "yYwMTAdX13RU"
   },
   "outputs": [],
   "source": [
    "rez_1 = accuracy_sklearn(big_actual, big_predicted)\n",
    "rez_2 = accuracy_numpy(big_actual, big_predicted)\n",
    "\n",
    "assert np.isclose(rez_1, rez_2)"
   ]
  },
  {
   "cell_type": "markdown",
   "metadata": {
    "id": "Y4vOxFRX_DbN"
   },
   "source": [
    "```\n",
    "accuracy_sklearn(ndarray(5000000,), ndarray(5000000,)) -> total time: 0.737005607s\n",
    "accuracy_numpy(ndarray(5000000,), ndarray(5000000,)) -> total time: 0.045633154s\n",
    "```"
   ]
  },
  {
   "cell_type": "markdown",
   "metadata": {
    "id": "9a4kiUip-iaB"
   },
   "source": [
    "## Excercise 3\n",
    "\n",
    "Implement a method to calculate the F1-Score using numpy operations. Be careful at corner cases (divide by 0)."
   ]
  },
  {
   "cell_type": "markdown",
   "metadata": {
    "id": "xlVLJUKe6nLf"
   },
   "source": [
    "Precision = $\\frac{TP}{TP + FP}$\n",
    "\n",
    "Recall = $\\frac{TP}{TP + FN}$\n",
    "\n",
    "F1-Score = $2 \\cdot \\frac{Precision \\cdot Recall}{Precision + Recall}$"
   ]
  },
  {
   "cell_type": "code",
   "execution_count": null,
   "metadata": {
    "id": "bf26jyp65jWp"
   },
   "outputs": [],
   "source": [
    "@timed(use_seconds=True, show_args=True)\n",
    "def f1_score_sklearn(gt: np.ndarray, pred: np.ndarray) -> float:\n",
    "    return f1_score(gt, pred)\n",
    "\n",
    "\n",
    "@timed(use_seconds=True, show_args=True)\n",
    "def f1_score_numpy(gt: np.ndarray, pred: np.ndarray) -> float:\n",
    "    raise NotImplementedError()\n",
    "\n",
    "\n",
    "assert f1_score_sklearn(actual, predicted) == f1_score_numpy(actual, predicted)"
   ]
  },
  {
   "cell_type": "code",
   "execution_count": null,
   "metadata": {
    "id": "a2LsucKI5rB4"
   },
   "outputs": [],
   "source": [
    "rez_1 = f1_score_sklearn(big_actual, big_predicted)\n",
    "rez_2 = f1_score_numpy(big_actual, big_predicted)\n",
    "\n",
    "assert np.isclose(rez_1, rez_2)"
   ]
  },
  {
   "cell_type": "markdown",
   "metadata": {
    "id": "uVLThSs4-9GP"
   },
   "source": [
    "```\n",
    "f1_score_sklearn(ndarray(5000000,), ndarray(5000000,)) -> total time: 5.300984584s\n",
    "f1_score_numpy(ndarray(5000000,), ndarray(5000000,)) -> total time: 0.042523483s\n",
    "```"
   ]
  }
 ],
 "metadata": {
  "colab": {
   "include_colab_link": true,
   "name": "RN-2024-Lab01",
   "provenance": []
  },
  "kaggle": {
   "accelerator": "none",
   "dataSources": [],
   "dockerImageVersionId": 30775,
   "isGpuEnabled": false,
   "isInternetEnabled": true,
   "language": "python",
   "sourceType": "notebook"
  },
  "kernelspec": {
   "display_name": "Python 3 (ipykernel)",
   "language": "python",
   "name": "python3"
  },
  "language_info": {
   "codemirror_mode": {
    "name": "ipython",
    "version": 3
   },
   "file_extension": ".py",
   "mimetype": "text/x-python",
   "name": "python",
   "nbconvert_exporter": "python",
   "pygments_lexer": "ipython3",
   "version": "3.10.12"
  }
 },
 "nbformat": 4,
 "nbformat_minor": 4
}
